{
 "cells": [
  {
   "cell_type": "code",
   "execution_count": 1,
   "metadata": {},
   "outputs": [
    {
     "name": "stdout",
     "output_type": "stream",
     "text": [
      "[['Sunny', 'Rainy'], ['Warm', 'Cold'], ['Normal', 'High'], ['Strong', 'Weak'], ['Warm', 'Cool'], ['Same', 'Change']]\n",
      "6\n",
      "\n",
      " the most general hypothesis: ['?','?','?','?','?','?']\n",
      "\n",
      "\n",
      " the most specific hypothesis: ['0','0','0','0','0','0']\n",
      "\n",
      "\n",
      " the given training data set\n",
      "\n",
      "['Sky', 'Air Temp', 'Humidity', 'Wind', 'Water', 'Forecast', 'EnjoySport']\n",
      "['Sunny', 'Warm', 'Nomal', 'Strong', 'Warm', 'Same', 'Yes']\n",
      "['Sunny', 'Warm', 'High', 'Strong', 'Warm', 'Same', 'Yes']\n",
      "['Rainy', 'Cold', 'High', 'Strong', 'Warm', 'Change', 'No']\n",
      "['Sunny', 'Warm', 'High', 'Strong', 'Cool', 'Change', 'Yes']\n",
      "\n",
      " the initial value of hypothesis:\n",
      "['0', '0', '0', '0', '0', '0']\n",
      "\n",
      " for training examples:5 the hypothsis\n",
      " ['Sunny', 'Warm', '?', 'Strong', '?', '?']\n"
     ]
    }
   ],
   "source": [
    "import random\n",
    "import csv\n",
    "\n",
    "attributes=[['Sunny','Rainy'],\n",
    "           ['Warm','Cold'],\n",
    "           ['Normal','High'],\n",
    "           ['Strong','Weak'],\n",
    "           ['Warm','Cool'],\n",
    "           ['Same','Change']]\n",
    "print(attributes)\n",
    "num_attributes=len(attributes)\n",
    "print(num_attributes)\n",
    "\n",
    "print(\"\\n the most general hypothesis: ['?','?','?','?','?','?']\\n\")\n",
    "print(\"\\n the most specific hypothesis: ['0','0','0','0','0','0']\\n\")\n",
    "\n",
    "a=[]\n",
    "print(\"\\n the given training data set\\n\")\n",
    "with open('C:/Users/hp/Desktop/4MT17CS044_JOVITA/lab1.csv','r') as csvFile:\n",
    "    reader=csv.reader(csvFile)\n",
    "    for row in reader:\n",
    "        a.append(row)\n",
    "        print(row)\n",
    "        \n",
    "print(\"\\n the initial value of hypothesis:\")\n",
    "h=['0']*num_attributes\n",
    "print(h)\n",
    "for i in range(0,len(a)):\n",
    "    if a[i][num_attributes]=='Yes':\n",
    "        for j in range(num_attributes):\n",
    "            if h[j]=='0' or h[j]==a[i][j]:\n",
    "                h[j]=a[i][j]\n",
    "            else:\n",
    "                h[j]='?'\n",
    "print(\"\\n for training examples:{0} the hypothsis\\n\".format(i+1),h)"
   ]
  },
  {
   "cell_type": "code",
   "execution_count": null,
   "metadata": {},
   "outputs": [],
   "source": []
  }
 ],
 "metadata": {
  "kernelspec": {
   "display_name": "Python 3",
   "language": "python",
   "name": "python3"
  },
  "language_info": {
   "codemirror_mode": {
    "name": "ipython",
    "version": 3
   },
   "file_extension": ".py",
   "mimetype": "text/x-python",
   "name": "python",
   "nbconvert_exporter": "python",
   "pygments_lexer": "ipython3",
   "version": "3.7.4"
  }
 },
 "nbformat": 4,
 "nbformat_minor": 2
}
